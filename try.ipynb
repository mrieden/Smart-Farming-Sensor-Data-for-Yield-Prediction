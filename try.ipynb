{
 "cells": [
  {
   "cell_type": "code",
   "execution_count": 170,
   "id": "fce84e80",
   "metadata": {},
   "outputs": [],
   "source": [
    "import pandas as pd \n",
    "import numpy as np\n",
    "import matplotlib.pyplot as plt\n",
    "import seaborn as sns\n",
    "from sklearn.model_selection import train_test_split\n",
    "from sklearn.ensemble import RandomForestClassifier,RandomForestRegressor\n",
    "from sklearn.metrics import classification_report, confusion_matrix, accuracy_score,mean_squared_error, r2_score\n",
    "from sklearn.preprocessing import StandardScaler,PolynomialFeatures\n",
    "from sklearn.decomposition import PCA\n",
    "from xgboost import XGBClassifier,XGBRegressor\n",
    "from sklearn.linear_model import LinearRegression\n"
   ]
  },
  {
   "cell_type": "code",
   "execution_count": 171,
   "id": "582c7e3b",
   "metadata": {},
   "outputs": [
    {
     "data": {
      "application/vnd.microsoft.datawrangler.viewer.v0+json": {
       "columns": [
        {
         "name": "index",
         "rawType": "int64",
         "type": "integer"
        },
        {
         "name": "farm_id",
         "rawType": "object",
         "type": "string"
        },
        {
         "name": "region",
         "rawType": "object",
         "type": "string"
        },
        {
         "name": "crop_type",
         "rawType": "object",
         "type": "string"
        },
        {
         "name": "soil_moisture_%",
         "rawType": "float64",
         "type": "float"
        },
        {
         "name": "soil_pH",
         "rawType": "float64",
         "type": "float"
        },
        {
         "name": "temperature_C",
         "rawType": "float64",
         "type": "float"
        },
        {
         "name": "rainfall_mm",
         "rawType": "float64",
         "type": "float"
        },
        {
         "name": "humidity_%",
         "rawType": "float64",
         "type": "float"
        },
        {
         "name": "sunlight_hours",
         "rawType": "float64",
         "type": "float"
        },
        {
         "name": "irrigation_type",
         "rawType": "object",
         "type": "unknown"
        },
        {
         "name": "fertilizer_type",
         "rawType": "object",
         "type": "string"
        },
        {
         "name": "pesticide_usage_ml",
         "rawType": "float64",
         "type": "float"
        },
        {
         "name": "sowing_date",
         "rawType": "object",
         "type": "string"
        },
        {
         "name": "harvest_date",
         "rawType": "object",
         "type": "string"
        },
        {
         "name": "total_days",
         "rawType": "int64",
         "type": "integer"
        },
        {
         "name": "yield_kg_per_hectare",
         "rawType": "float64",
         "type": "float"
        },
        {
         "name": "sensor_id",
         "rawType": "object",
         "type": "string"
        },
        {
         "name": "timestamp",
         "rawType": "object",
         "type": "string"
        },
        {
         "name": "latitude",
         "rawType": "float64",
         "type": "float"
        },
        {
         "name": "longitude",
         "rawType": "float64",
         "type": "float"
        },
        {
         "name": "NDVI_index",
         "rawType": "float64",
         "type": "float"
        },
        {
         "name": "crop_disease_status",
         "rawType": "object",
         "type": "unknown"
        }
       ],
       "ref": "dcc2df8d-3025-4788-bd51-67a15a7bfc6e",
       "rows": [
        [
         "0",
         "FARM0001",
         "North India",
         "Wheat",
         "35.95",
         "5.99",
         "17.79",
         "75.62",
         "77.03",
         "7.27",
         null,
         "Organic",
         "6.34",
         "2024-01-08",
         "2024-05-09",
         "122",
         "4408.07",
         "SENS0001",
         "2024-03-19",
         "14.970941",
         "82.997689",
         "0.63",
         "Mild"
        ],
        [
         "1",
         "FARM0002",
         "South USA",
         "Soybean",
         "19.74",
         "7.24",
         "30.18",
         "89.91",
         "61.13",
         "5.67",
         "Sprinkler",
         "Inorganic",
         "9.6",
         "2024-02-04",
         "2024-05-26",
         "112",
         "5389.98",
         "SENS0002",
         "2024-04-21",
         "16.613022",
         "70.869009",
         "0.58",
         null
        ],
        [
         "2",
         "FARM0003",
         "South USA",
         "Wheat",
         "29.32",
         "7.16",
         "27.37",
         "265.43",
         "68.87",
         "8.23",
         "Drip",
         "Mixed",
         "15.26",
         "2024-02-03",
         "2024-06-26",
         "144",
         "2931.16",
         "SENS0003",
         "2024-02-28",
         "19.503156",
         "79.068206",
         "0.8",
         "Mild"
        ],
        [
         "3",
         "FARM0004",
         "Central USA",
         "Maize",
         "17.33",
         "6.03",
         "33.73",
         "212.01",
         "70.46",
         "5.03",
         "Sprinkler",
         "Organic",
         "25.8",
         "2024-02-21",
         "2024-07-04",
         "134",
         "4227.8",
         "SENS0004",
         "2024-05-14",
         "31.071298",
         "85.519998",
         "0.44",
         null
        ],
        [
         "4",
         "FARM0005",
         "Central USA",
         "Cotton",
         "19.37",
         "5.92",
         "33.86",
         "269.09",
         "55.73",
         "7.93",
         null,
         "Mixed",
         "25.65",
         "2024-02-05",
         "2024-05-20",
         "105",
         "4979.96",
         "SENS0005",
         "2024-04-13",
         "16.56854",
         "81.69172",
         "0.84",
         "Severe"
        ]
       ],
       "shape": {
        "columns": 22,
        "rows": 5
       }
      },
      "text/html": [
       "<div>\n",
       "<style scoped>\n",
       "    .dataframe tbody tr th:only-of-type {\n",
       "        vertical-align: middle;\n",
       "    }\n",
       "\n",
       "    .dataframe tbody tr th {\n",
       "        vertical-align: top;\n",
       "    }\n",
       "\n",
       "    .dataframe thead th {\n",
       "        text-align: right;\n",
       "    }\n",
       "</style>\n",
       "<table border=\"1\" class=\"dataframe\">\n",
       "  <thead>\n",
       "    <tr style=\"text-align: right;\">\n",
       "      <th></th>\n",
       "      <th>farm_id</th>\n",
       "      <th>region</th>\n",
       "      <th>crop_type</th>\n",
       "      <th>soil_moisture_%</th>\n",
       "      <th>soil_pH</th>\n",
       "      <th>temperature_C</th>\n",
       "      <th>rainfall_mm</th>\n",
       "      <th>humidity_%</th>\n",
       "      <th>sunlight_hours</th>\n",
       "      <th>irrigation_type</th>\n",
       "      <th>...</th>\n",
       "      <th>sowing_date</th>\n",
       "      <th>harvest_date</th>\n",
       "      <th>total_days</th>\n",
       "      <th>yield_kg_per_hectare</th>\n",
       "      <th>sensor_id</th>\n",
       "      <th>timestamp</th>\n",
       "      <th>latitude</th>\n",
       "      <th>longitude</th>\n",
       "      <th>NDVI_index</th>\n",
       "      <th>crop_disease_status</th>\n",
       "    </tr>\n",
       "  </thead>\n",
       "  <tbody>\n",
       "    <tr>\n",
       "      <th>0</th>\n",
       "      <td>FARM0001</td>\n",
       "      <td>North India</td>\n",
       "      <td>Wheat</td>\n",
       "      <td>35.95</td>\n",
       "      <td>5.99</td>\n",
       "      <td>17.79</td>\n",
       "      <td>75.62</td>\n",
       "      <td>77.03</td>\n",
       "      <td>7.27</td>\n",
       "      <td>NaN</td>\n",
       "      <td>...</td>\n",
       "      <td>2024-01-08</td>\n",
       "      <td>2024-05-09</td>\n",
       "      <td>122</td>\n",
       "      <td>4408.07</td>\n",
       "      <td>SENS0001</td>\n",
       "      <td>2024-03-19</td>\n",
       "      <td>14.970941</td>\n",
       "      <td>82.997689</td>\n",
       "      <td>0.63</td>\n",
       "      <td>Mild</td>\n",
       "    </tr>\n",
       "    <tr>\n",
       "      <th>1</th>\n",
       "      <td>FARM0002</td>\n",
       "      <td>South USA</td>\n",
       "      <td>Soybean</td>\n",
       "      <td>19.74</td>\n",
       "      <td>7.24</td>\n",
       "      <td>30.18</td>\n",
       "      <td>89.91</td>\n",
       "      <td>61.13</td>\n",
       "      <td>5.67</td>\n",
       "      <td>Sprinkler</td>\n",
       "      <td>...</td>\n",
       "      <td>2024-02-04</td>\n",
       "      <td>2024-05-26</td>\n",
       "      <td>112</td>\n",
       "      <td>5389.98</td>\n",
       "      <td>SENS0002</td>\n",
       "      <td>2024-04-21</td>\n",
       "      <td>16.613022</td>\n",
       "      <td>70.869009</td>\n",
       "      <td>0.58</td>\n",
       "      <td>NaN</td>\n",
       "    </tr>\n",
       "    <tr>\n",
       "      <th>2</th>\n",
       "      <td>FARM0003</td>\n",
       "      <td>South USA</td>\n",
       "      <td>Wheat</td>\n",
       "      <td>29.32</td>\n",
       "      <td>7.16</td>\n",
       "      <td>27.37</td>\n",
       "      <td>265.43</td>\n",
       "      <td>68.87</td>\n",
       "      <td>8.23</td>\n",
       "      <td>Drip</td>\n",
       "      <td>...</td>\n",
       "      <td>2024-02-03</td>\n",
       "      <td>2024-06-26</td>\n",
       "      <td>144</td>\n",
       "      <td>2931.16</td>\n",
       "      <td>SENS0003</td>\n",
       "      <td>2024-02-28</td>\n",
       "      <td>19.503156</td>\n",
       "      <td>79.068206</td>\n",
       "      <td>0.80</td>\n",
       "      <td>Mild</td>\n",
       "    </tr>\n",
       "    <tr>\n",
       "      <th>3</th>\n",
       "      <td>FARM0004</td>\n",
       "      <td>Central USA</td>\n",
       "      <td>Maize</td>\n",
       "      <td>17.33</td>\n",
       "      <td>6.03</td>\n",
       "      <td>33.73</td>\n",
       "      <td>212.01</td>\n",
       "      <td>70.46</td>\n",
       "      <td>5.03</td>\n",
       "      <td>Sprinkler</td>\n",
       "      <td>...</td>\n",
       "      <td>2024-02-21</td>\n",
       "      <td>2024-07-04</td>\n",
       "      <td>134</td>\n",
       "      <td>4227.80</td>\n",
       "      <td>SENS0004</td>\n",
       "      <td>2024-05-14</td>\n",
       "      <td>31.071298</td>\n",
       "      <td>85.519998</td>\n",
       "      <td>0.44</td>\n",
       "      <td>NaN</td>\n",
       "    </tr>\n",
       "    <tr>\n",
       "      <th>4</th>\n",
       "      <td>FARM0005</td>\n",
       "      <td>Central USA</td>\n",
       "      <td>Cotton</td>\n",
       "      <td>19.37</td>\n",
       "      <td>5.92</td>\n",
       "      <td>33.86</td>\n",
       "      <td>269.09</td>\n",
       "      <td>55.73</td>\n",
       "      <td>7.93</td>\n",
       "      <td>NaN</td>\n",
       "      <td>...</td>\n",
       "      <td>2024-02-05</td>\n",
       "      <td>2024-05-20</td>\n",
       "      <td>105</td>\n",
       "      <td>4979.96</td>\n",
       "      <td>SENS0005</td>\n",
       "      <td>2024-04-13</td>\n",
       "      <td>16.568540</td>\n",
       "      <td>81.691720</td>\n",
       "      <td>0.84</td>\n",
       "      <td>Severe</td>\n",
       "    </tr>\n",
       "  </tbody>\n",
       "</table>\n",
       "<p>5 rows × 22 columns</p>\n",
       "</div>"
      ],
      "text/plain": [
       "    farm_id       region crop_type  soil_moisture_%  soil_pH  temperature_C  \\\n",
       "0  FARM0001  North India     Wheat            35.95     5.99          17.79   \n",
       "1  FARM0002    South USA   Soybean            19.74     7.24          30.18   \n",
       "2  FARM0003    South USA     Wheat            29.32     7.16          27.37   \n",
       "3  FARM0004  Central USA     Maize            17.33     6.03          33.73   \n",
       "4  FARM0005  Central USA    Cotton            19.37     5.92          33.86   \n",
       "\n",
       "   rainfall_mm  humidity_%  sunlight_hours irrigation_type  ... sowing_date  \\\n",
       "0        75.62       77.03            7.27             NaN  ...  2024-01-08   \n",
       "1        89.91       61.13            5.67       Sprinkler  ...  2024-02-04   \n",
       "2       265.43       68.87            8.23            Drip  ...  2024-02-03   \n",
       "3       212.01       70.46            5.03       Sprinkler  ...  2024-02-21   \n",
       "4       269.09       55.73            7.93             NaN  ...  2024-02-05   \n",
       "\n",
       "   harvest_date total_days yield_kg_per_hectare  sensor_id   timestamp  \\\n",
       "0    2024-05-09        122              4408.07   SENS0001  2024-03-19   \n",
       "1    2024-05-26        112              5389.98   SENS0002  2024-04-21   \n",
       "2    2024-06-26        144              2931.16   SENS0003  2024-02-28   \n",
       "3    2024-07-04        134              4227.80   SENS0004  2024-05-14   \n",
       "4    2024-05-20        105              4979.96   SENS0005  2024-04-13   \n",
       "\n",
       "    latitude  longitude  NDVI_index  crop_disease_status  \n",
       "0  14.970941  82.997689        0.63                 Mild  \n",
       "1  16.613022  70.869009        0.58                  NaN  \n",
       "2  19.503156  79.068206        0.80                 Mild  \n",
       "3  31.071298  85.519998        0.44                  NaN  \n",
       "4  16.568540  81.691720        0.84               Severe  \n",
       "\n",
       "[5 rows x 22 columns]"
      ]
     },
     "execution_count": 2,
     "metadata": {},
     "output_type": "execute_result"
    }
   ],
   "source": [
    "df = pd.read_csv('Smart_Farming_Crop_Yield_2024.csv')\n",
    "df.head()"
   ]
  },
  {
   "cell_type": "code",
   "execution_count": 172,
   "id": "3500145c",
   "metadata": {},
   "outputs": [],
   "source": [
    "df = df.drop(columns=['farm_id','sensor_id' ], axis=1)"
   ]
  },
  {
   "cell_type": "code",
   "execution_count": 173,
   "id": "9fe0df29",
   "metadata": {},
   "outputs": [
    {
     "name": "stdout",
     "output_type": "stream",
     "text": [
      "<class 'pandas.core.frame.DataFrame'>\n",
      "RangeIndex: 500 entries, 0 to 499\n",
      "Data columns (total 20 columns):\n",
      " #   Column                Non-Null Count  Dtype  \n",
      "---  ------                --------------  -----  \n",
      " 0   region                500 non-null    object \n",
      " 1   crop_type             500 non-null    object \n",
      " 2   soil_moisture_%       500 non-null    float64\n",
      " 3   soil_pH               500 non-null    float64\n",
      " 4   temperature_C         500 non-null    float64\n",
      " 5   rainfall_mm           500 non-null    float64\n",
      " 6   humidity_%            500 non-null    float64\n",
      " 7   sunlight_hours        500 non-null    float64\n",
      " 8   irrigation_type       350 non-null    object \n",
      " 9   fertilizer_type       500 non-null    object \n",
      " 10  pesticide_usage_ml    500 non-null    float64\n",
      " 11  sowing_date           500 non-null    object \n",
      " 12  harvest_date          500 non-null    object \n",
      " 13  total_days            500 non-null    int64  \n",
      " 14  yield_kg_per_hectare  500 non-null    float64\n",
      " 15  timestamp             500 non-null    object \n",
      " 16  latitude              500 non-null    float64\n",
      " 17  longitude             500 non-null    float64\n",
      " 18  NDVI_index            500 non-null    float64\n",
      " 19  crop_disease_status   370 non-null    object \n",
      "dtypes: float64(11), int64(1), object(8)\n",
      "memory usage: 78.3+ KB\n"
     ]
    }
   ],
   "source": [
    "df.info()"
   ]
  },
  {
   "cell_type": "code",
   "execution_count": 5,
   "id": "5426e60e",
   "metadata": {},
   "outputs": [
    {
     "data": {
      "application/vnd.microsoft.datawrangler.viewer.v0+json": {
       "columns": [
        {
         "name": "index",
         "rawType": "int64",
         "type": "integer"
        },
        {
         "name": "region",
         "rawType": "object",
         "type": "string"
        },
        {
         "name": "crop_type",
         "rawType": "object",
         "type": "string"
        },
        {
         "name": "soil_moisture_%",
         "rawType": "float64",
         "type": "float"
        },
        {
         "name": "soil_pH",
         "rawType": "float64",
         "type": "float"
        },
        {
         "name": "temperature_C",
         "rawType": "float64",
         "type": "float"
        },
        {
         "name": "rainfall_mm",
         "rawType": "float64",
         "type": "float"
        },
        {
         "name": "humidity_%",
         "rawType": "float64",
         "type": "float"
        },
        {
         "name": "sunlight_hours",
         "rawType": "float64",
         "type": "float"
        },
        {
         "name": "irrigation_type",
         "rawType": "object",
         "type": "string"
        },
        {
         "name": "fertilizer_type",
         "rawType": "object",
         "type": "string"
        },
        {
         "name": "pesticide_usage_ml",
         "rawType": "float64",
         "type": "float"
        },
        {
         "name": "total_days",
         "rawType": "int64",
         "type": "integer"
        },
        {
         "name": "yield_kg_per_hectare",
         "rawType": "float64",
         "type": "float"
        },
        {
         "name": "latitude",
         "rawType": "float64",
         "type": "float"
        },
        {
         "name": "longitude",
         "rawType": "float64",
         "type": "float"
        },
        {
         "name": "NDVI_index",
         "rawType": "float64",
         "type": "float"
        },
        {
         "name": "crop_disease_status",
         "rawType": "object",
         "type": "string"
        },
        {
         "name": "sowing_month",
         "rawType": "int32",
         "type": "integer"
        },
        {
         "name": "harvest_month",
         "rawType": "int32",
         "type": "integer"
        },
        {
         "name": "timestamp_month",
         "rawType": "int32",
         "type": "integer"
        }
       ],
       "ref": "0333ae4f-0a85-460d-b3a2-23275a9c03af",
       "rows": [
        [
         "0",
         "North India",
         "Wheat",
         "35.95",
         "5.99",
         "17.79",
         "75.62",
         "77.03",
         "7.27",
         "None",
         "Organic",
         "6.34",
         "122",
         "4408.07",
         "14.970941",
         "82.997689",
         "0.63",
         "Mild",
         "1",
         "5",
         "3"
        ],
        [
         "1",
         "South USA",
         "Soybean",
         "19.74",
         "7.24",
         "30.18",
         "89.91",
         "61.13",
         "5.67",
         "Sprinkler",
         "Inorganic",
         "9.6",
         "112",
         "5389.98",
         "16.613022",
         "70.869009",
         "0.58",
         "None",
         "2",
         "5",
         "4"
        ],
        [
         "2",
         "South USA",
         "Wheat",
         "29.32",
         "7.16",
         "27.37",
         "265.43",
         "68.87",
         "8.23",
         "Drip",
         "Mixed",
         "15.26",
         "144",
         "2931.16",
         "19.503156",
         "79.068206",
         "0.8",
         "Mild",
         "2",
         "6",
         "2"
        ],
        [
         "3",
         "Central USA",
         "Maize",
         "17.33",
         "6.03",
         "33.73",
         "212.01",
         "70.46",
         "5.03",
         "Sprinkler",
         "Organic",
         "25.8",
         "134",
         "4227.8",
         "31.071298",
         "85.519998",
         "0.44",
         "None",
         "2",
         "7",
         "5"
        ],
        [
         "4",
         "Central USA",
         "Cotton",
         "19.37",
         "5.92",
         "33.86",
         "269.09",
         "55.73",
         "7.93",
         "None",
         "Mixed",
         "25.65",
         "105",
         "4979.96",
         "16.56854",
         "81.69172",
         "0.84",
         "Severe",
         "2",
         "5",
         "4"
        ]
       ],
       "shape": {
        "columns": 20,
        "rows": 5
       }
      },
      "text/html": [
       "<div>\n",
       "<style scoped>\n",
       "    .dataframe tbody tr th:only-of-type {\n",
       "        vertical-align: middle;\n",
       "    }\n",
       "\n",
       "    .dataframe tbody tr th {\n",
       "        vertical-align: top;\n",
       "    }\n",
       "\n",
       "    .dataframe thead th {\n",
       "        text-align: right;\n",
       "    }\n",
       "</style>\n",
       "<table border=\"1\" class=\"dataframe\">\n",
       "  <thead>\n",
       "    <tr style=\"text-align: right;\">\n",
       "      <th></th>\n",
       "      <th>region</th>\n",
       "      <th>crop_type</th>\n",
       "      <th>soil_moisture_%</th>\n",
       "      <th>soil_pH</th>\n",
       "      <th>temperature_C</th>\n",
       "      <th>rainfall_mm</th>\n",
       "      <th>humidity_%</th>\n",
       "      <th>sunlight_hours</th>\n",
       "      <th>irrigation_type</th>\n",
       "      <th>fertilizer_type</th>\n",
       "      <th>pesticide_usage_ml</th>\n",
       "      <th>total_days</th>\n",
       "      <th>yield_kg_per_hectare</th>\n",
       "      <th>latitude</th>\n",
       "      <th>longitude</th>\n",
       "      <th>NDVI_index</th>\n",
       "      <th>crop_disease_status</th>\n",
       "      <th>sowing_month</th>\n",
       "      <th>harvest_month</th>\n",
       "      <th>timestamp_month</th>\n",
       "    </tr>\n",
       "  </thead>\n",
       "  <tbody>\n",
       "    <tr>\n",
       "      <th>0</th>\n",
       "      <td>North India</td>\n",
       "      <td>Wheat</td>\n",
       "      <td>35.95</td>\n",
       "      <td>5.99</td>\n",
       "      <td>17.79</td>\n",
       "      <td>75.62</td>\n",
       "      <td>77.03</td>\n",
       "      <td>7.27</td>\n",
       "      <td>None</td>\n",
       "      <td>Organic</td>\n",
       "      <td>6.34</td>\n",
       "      <td>122</td>\n",
       "      <td>4408.07</td>\n",
       "      <td>14.970941</td>\n",
       "      <td>82.997689</td>\n",
       "      <td>0.63</td>\n",
       "      <td>Mild</td>\n",
       "      <td>1</td>\n",
       "      <td>5</td>\n",
       "      <td>3</td>\n",
       "    </tr>\n",
       "    <tr>\n",
       "      <th>1</th>\n",
       "      <td>South USA</td>\n",
       "      <td>Soybean</td>\n",
       "      <td>19.74</td>\n",
       "      <td>7.24</td>\n",
       "      <td>30.18</td>\n",
       "      <td>89.91</td>\n",
       "      <td>61.13</td>\n",
       "      <td>5.67</td>\n",
       "      <td>Sprinkler</td>\n",
       "      <td>Inorganic</td>\n",
       "      <td>9.60</td>\n",
       "      <td>112</td>\n",
       "      <td>5389.98</td>\n",
       "      <td>16.613022</td>\n",
       "      <td>70.869009</td>\n",
       "      <td>0.58</td>\n",
       "      <td>None</td>\n",
       "      <td>2</td>\n",
       "      <td>5</td>\n",
       "      <td>4</td>\n",
       "    </tr>\n",
       "    <tr>\n",
       "      <th>2</th>\n",
       "      <td>South USA</td>\n",
       "      <td>Wheat</td>\n",
       "      <td>29.32</td>\n",
       "      <td>7.16</td>\n",
       "      <td>27.37</td>\n",
       "      <td>265.43</td>\n",
       "      <td>68.87</td>\n",
       "      <td>8.23</td>\n",
       "      <td>Drip</td>\n",
       "      <td>Mixed</td>\n",
       "      <td>15.26</td>\n",
       "      <td>144</td>\n",
       "      <td>2931.16</td>\n",
       "      <td>19.503156</td>\n",
       "      <td>79.068206</td>\n",
       "      <td>0.80</td>\n",
       "      <td>Mild</td>\n",
       "      <td>2</td>\n",
       "      <td>6</td>\n",
       "      <td>2</td>\n",
       "    </tr>\n",
       "    <tr>\n",
       "      <th>3</th>\n",
       "      <td>Central USA</td>\n",
       "      <td>Maize</td>\n",
       "      <td>17.33</td>\n",
       "      <td>6.03</td>\n",
       "      <td>33.73</td>\n",
       "      <td>212.01</td>\n",
       "      <td>70.46</td>\n",
       "      <td>5.03</td>\n",
       "      <td>Sprinkler</td>\n",
       "      <td>Organic</td>\n",
       "      <td>25.80</td>\n",
       "      <td>134</td>\n",
       "      <td>4227.80</td>\n",
       "      <td>31.071298</td>\n",
       "      <td>85.519998</td>\n",
       "      <td>0.44</td>\n",
       "      <td>None</td>\n",
       "      <td>2</td>\n",
       "      <td>7</td>\n",
       "      <td>5</td>\n",
       "    </tr>\n",
       "    <tr>\n",
       "      <th>4</th>\n",
       "      <td>Central USA</td>\n",
       "      <td>Cotton</td>\n",
       "      <td>19.37</td>\n",
       "      <td>5.92</td>\n",
       "      <td>33.86</td>\n",
       "      <td>269.09</td>\n",
       "      <td>55.73</td>\n",
       "      <td>7.93</td>\n",
       "      <td>None</td>\n",
       "      <td>Mixed</td>\n",
       "      <td>25.65</td>\n",
       "      <td>105</td>\n",
       "      <td>4979.96</td>\n",
       "      <td>16.568540</td>\n",
       "      <td>81.691720</td>\n",
       "      <td>0.84</td>\n",
       "      <td>Severe</td>\n",
       "      <td>2</td>\n",
       "      <td>5</td>\n",
       "      <td>4</td>\n",
       "    </tr>\n",
       "  </tbody>\n",
       "</table>\n",
       "</div>"
      ],
      "text/plain": [
       "        region crop_type  soil_moisture_%  soil_pH  temperature_C  \\\n",
       "0  North India     Wheat            35.95     5.99          17.79   \n",
       "1    South USA   Soybean            19.74     7.24          30.18   \n",
       "2    South USA     Wheat            29.32     7.16          27.37   \n",
       "3  Central USA     Maize            17.33     6.03          33.73   \n",
       "4  Central USA    Cotton            19.37     5.92          33.86   \n",
       "\n",
       "   rainfall_mm  humidity_%  sunlight_hours irrigation_type fertilizer_type  \\\n",
       "0        75.62       77.03            7.27            None         Organic   \n",
       "1        89.91       61.13            5.67       Sprinkler       Inorganic   \n",
       "2       265.43       68.87            8.23            Drip           Mixed   \n",
       "3       212.01       70.46            5.03       Sprinkler         Organic   \n",
       "4       269.09       55.73            7.93            None           Mixed   \n",
       "\n",
       "   pesticide_usage_ml  total_days  yield_kg_per_hectare   latitude  longitude  \\\n",
       "0                6.34         122               4408.07  14.970941  82.997689   \n",
       "1                9.60         112               5389.98  16.613022  70.869009   \n",
       "2               15.26         144               2931.16  19.503156  79.068206   \n",
       "3               25.80         134               4227.80  31.071298  85.519998   \n",
       "4               25.65         105               4979.96  16.568540  81.691720   \n",
       "\n",
       "   NDVI_index crop_disease_status  sowing_month  harvest_month  \\\n",
       "0        0.63                Mild             1              5   \n",
       "1        0.58                None             2              5   \n",
       "2        0.80                Mild             2              6   \n",
       "3        0.44                None             2              7   \n",
       "4        0.84              Severe             2              5   \n",
       "\n",
       "   timestamp_month  \n",
       "0                3  \n",
       "1                4  \n",
       "2                2  \n",
       "3                5  \n",
       "4                4  "
      ]
     },
     "execution_count": 5,
     "metadata": {},
     "output_type": "execute_result"
    }
   ],
   "source": [
    "df.fillna('None', inplace=True)\n",
    "df['sowing_date'] = pd.to_datetime(df['sowing_date'], format='%Y-%m-%d', errors='coerce')\n",
    "df['sowing_month'] = df['sowing_date'].dt.month\n",
    "# df['sowing_quarter'] = df['sowing_date'].dt.quarter\n",
    "df['harvest_date'] = pd.to_datetime(df['harvest_date'], format='%Y-%m-%d', errors='coerce')\n",
    "df['harvest_month'] = df['harvest_date'].dt.month\n",
    "# df['harvest_quarter'] = df['harvest_date'].dt.quarter\n",
    "df['timestamp'] = pd.to_datetime(df['timestamp'], format='%Y-%m-%d', errors='coerce')\n",
    "df['timestamp_month'] = df['timestamp'].dt.month\n",
    "# df['timestamp_quarter'] = df['timestamp'].dt.quarter\n",
    "df = df.drop(columns=['sowing_date', 'harvest_date', 'timestamp'], axis=1)\n",
    "df.head()"
   ]
  },
  {
   "cell_type": "code",
   "execution_count": 6,
   "id": "b8c115a5",
   "metadata": {},
   "outputs": [
    {
     "name": "stdout",
     "output_type": "stream",
     "text": [
      "<class 'pandas.core.frame.DataFrame'>\n",
      "RangeIndex: 500 entries, 0 to 499\n",
      "Data columns (total 20 columns):\n",
      " #   Column                Non-Null Count  Dtype  \n",
      "---  ------                --------------  -----  \n",
      " 0   region                500 non-null    object \n",
      " 1   crop_type             500 non-null    object \n",
      " 2   soil_moisture_%       500 non-null    float64\n",
      " 3   soil_pH               500 non-null    float64\n",
      " 4   temperature_C         500 non-null    float64\n",
      " 5   rainfall_mm           500 non-null    float64\n",
      " 6   humidity_%            500 non-null    float64\n",
      " 7   sunlight_hours        500 non-null    float64\n",
      " 8   irrigation_type       500 non-null    object \n",
      " 9   fertilizer_type       500 non-null    object \n",
      " 10  pesticide_usage_ml    500 non-null    float64\n",
      " 11  total_days            500 non-null    int64  \n",
      " 12  yield_kg_per_hectare  500 non-null    float64\n",
      " 13  latitude              500 non-null    float64\n",
      " 14  longitude             500 non-null    float64\n",
      " 15  NDVI_index            500 non-null    float64\n",
      " 16  crop_disease_status   500 non-null    object \n",
      " 17  sowing_month          500 non-null    int32  \n",
      " 18  harvest_month         500 non-null    int32  \n",
      " 19  timestamp_month       500 non-null    int32  \n",
      "dtypes: float64(11), int32(3), int64(1), object(5)\n",
      "memory usage: 72.4+ KB\n"
     ]
    }
   ],
   "source": [
    "df.info()"
   ]
  },
  {
   "cell_type": "code",
   "execution_count": 176,
   "id": "6a6eeb82",
   "metadata": {},
   "outputs": [],
   "source": [
    "categorical_columns = [\"crop_type\", \"region\", \"irrigation_type\", \"fertilizer_type\", \"crop_disease_status\"]\n",
    "\n",
    "df = pd.get_dummies(df, columns=categorical_columns, drop_first=True)"
   ]
  },
  {
   "cell_type": "code",
   "execution_count": 177,
   "id": "4a2ed7c8",
   "metadata": {},
   "outputs": [
    {
     "name": "stdout",
     "output_type": "stream",
     "text": [
      "<class 'pandas.core.frame.DataFrame'>\n",
      "RangeIndex: 500 entries, 0 to 499\n",
      "Data columns (total 31 columns):\n",
      " #   Column                        Non-Null Count  Dtype  \n",
      "---  ------                        --------------  -----  \n",
      " 0   soil_moisture_%               500 non-null    float64\n",
      " 1   soil_pH                       500 non-null    float64\n",
      " 2   temperature_C                 500 non-null    float64\n",
      " 3   rainfall_mm                   500 non-null    float64\n",
      " 4   humidity_%                    500 non-null    float64\n",
      " 5   sunlight_hours                500 non-null    float64\n",
      " 6   pesticide_usage_ml            500 non-null    float64\n",
      " 7   total_days                    500 non-null    int64  \n",
      " 8   yield_kg_per_hectare          500 non-null    float64\n",
      " 9   latitude                      500 non-null    float64\n",
      " 10  longitude                     500 non-null    float64\n",
      " 11  NDVI_index                    500 non-null    float64\n",
      " 12  sowing_month                  500 non-null    int32  \n",
      " 13  harvest_month                 500 non-null    int32  \n",
      " 14  timestamp_month               500 non-null    int32  \n",
      " 15  crop_type_Maize               500 non-null    bool   \n",
      " 16  crop_type_Rice                500 non-null    bool   \n",
      " 17  crop_type_Soybean             500 non-null    bool   \n",
      " 18  crop_type_Wheat               500 non-null    bool   \n",
      " 19  region_East Africa            500 non-null    bool   \n",
      " 20  region_North India            500 non-null    bool   \n",
      " 21  region_South India            500 non-null    bool   \n",
      " 22  region_South USA              500 non-null    bool   \n",
      " 23  irrigation_type_Manual        500 non-null    bool   \n",
      " 24  irrigation_type_None          500 non-null    bool   \n",
      " 25  irrigation_type_Sprinkler     500 non-null    bool   \n",
      " 26  fertilizer_type_Mixed         500 non-null    bool   \n",
      " 27  fertilizer_type_Organic       500 non-null    bool   \n",
      " 28  crop_disease_status_Moderate  500 non-null    bool   \n",
      " 29  crop_disease_status_None      500 non-null    bool   \n",
      " 30  crop_disease_status_Severe    500 non-null    bool   \n",
      "dtypes: bool(16), float64(11), int32(3), int64(1)\n",
      "memory usage: 60.7 KB\n"
     ]
    }
   ],
   "source": [
    "df.info()"
   ]
  },
  {
   "cell_type": "code",
   "execution_count": null,
   "id": "c24dd4dc",
   "metadata": {},
   "outputs": [],
   "source": [
    "correlations = df.corr(numeric_only=True)[\"yield_kg_per_hectare\"].sort_values(ascending=False)\n",
    "\n",
    "print(correlations)"
   ]
  },
  {
   "cell_type": "code",
   "execution_count": 178,
   "id": "6e812a3c",
   "metadata": {},
   "outputs": [],
   "source": [
    "x = df.drop(['yield_kg_per_hectare','total_days'], axis=1).values\n",
    "y = df['yield_kg_per_hectare'].values"
   ]
  },
  {
   "cell_type": "code",
   "execution_count": 179,
   "id": "349a7cb8",
   "metadata": {},
   "outputs": [],
   "source": [
    "x_train, x_test, y_train, y_test = train_test_split(x, y, test_size=0.2, random_state=42)"
   ]
  },
  {
   "cell_type": "code",
   "execution_count": 180,
   "id": "f8ce6d3e",
   "metadata": {},
   "outputs": [],
   "source": [
    "scale = StandardScaler()\n",
    "x_train = scale.fit_transform(x_train)\n",
    "x_test = scale.transform(x_test)"
   ]
  },
  {
   "cell_type": "code",
   "execution_count": 181,
   "id": "34d634ae",
   "metadata": {},
   "outputs": [],
   "source": [
    "# poly = PolynomialFeatures(degree=3)\n",
    "# x_train = poly.fit_transform(x_train)\n",
    "# x_test = poly.transform(x_test)"
   ]
  },
  {
   "cell_type": "code",
   "execution_count": 182,
   "id": "fbb10323",
   "metadata": {},
   "outputs": [
    {
     "name": "stdout",
     "output_type": "stream",
     "text": [
      "Mean Squared Error: 1512105.1143569646\n",
      "R^2 Score: -0.09488629526330805\n"
     ]
    }
   ],
   "source": [
    "le = LinearRegression()\n",
    "le.fit(x_train, y_train)\n",
    "y_pred = le.predict(x_test)\n",
    "print(\"Mean Squared Error:\", mean_squared_error(y_test, y_pred))\n",
    "print(\"R^2 Score:\", r2_score(y_test, y_pred))"
   ]
  },
  {
   "cell_type": "code",
   "execution_count": 183,
   "id": "7c29b95e",
   "metadata": {},
   "outputs": [
    {
     "name": "stdout",
     "output_type": "stream",
     "text": [
      "Mean Squared Error: 1446048.844870574\n",
      "R^2 Score: -0.04705621818058803\n"
     ]
    }
   ],
   "source": [
    "rf = RandomForestRegressor(n_estimators=100,max_depth=3, random_state=42)\n",
    "rf.fit(x_train, y_train)\n",
    "y_pred = rf.predict(x_test)\n",
    "print(\"Mean Squared Error:\", mean_squared_error(y_test, y_pred))\n",
    "print(\"R^2 Score:\", r2_score(y_test, y_pred))"
   ]
  },
  {
   "cell_type": "code",
   "execution_count": 184,
   "id": "55ab2536",
   "metadata": {},
   "outputs": [
    {
     "name": "stdout",
     "output_type": "stream",
     "text": [
      "XGBoost Mean Squared Error: 1585286.5978976232\n",
      "XGBoost R^2 Score: -0.1478756031063535\n"
     ]
    }
   ],
   "source": [
    "xgb = XGBRegressor(n_estimators=500, learning_rate=0.01, random_state=42)\n",
    "xgb.fit(x_train, y_train)\n",
    "y_pred_xgb = xgb.predict(x_test)\n",
    "print(\"XGBoost Mean Squared Error:\", mean_squared_error(y_test, y_pred_xgb))\n",
    "print(\"XGBoost R^2 Score:\", r2_score(y_test, y_pred_xgb))"
   ]
  },
  {
   "cell_type": "code",
   "execution_count": null,
   "id": "23a91848",
   "metadata": {},
   "outputs": [],
   "source": [
    "from xgboost import XGBRegressor\n",
    "from sklearn.model_selection import GridSearchCV\n",
    "\n",
    "params = {\n",
    "    \"n_estimators\": [100, 300, 500],\n",
    "    \"max_depth\": [3, 5, 7],\n",
    "    \"learning_rate\": [0.01, 0.05, 0.1],\n",
    "    \"subsample\": [0.7, 0.9, 1.0],\n",
    "    \"colsample_bytree\": [0.7, 0.9, 1.0]\n",
    "}\n",
    "\n",
    "xgb = XGBRegressor(random_state=42)\n",
    "grid = GridSearchCV(xgb, param_grid=params, cv=3, scoring=\"r2\", n_jobs=-1)\n",
    "grid.fit(x_train, y_train)\n",
    "\n",
    "print(\"Best Params:\", grid.best_params_)\n",
    "print(\"Best R^2 Score:\", grid.best_score_)"
   ]
  }
 ],
 "metadata": {
  "kernelspec": {
   "display_name": "Python 3",
   "language": "python",
   "name": "python3"
  },
  "language_info": {
   "codemirror_mode": {
    "name": "ipython",
    "version": 3
   },
   "file_extension": ".py",
   "mimetype": "text/x-python",
   "name": "python",
   "nbconvert_exporter": "python",
   "pygments_lexer": "ipython3",
   "version": "3.13.2"
  }
 },
 "nbformat": 4,
 "nbformat_minor": 5
}
