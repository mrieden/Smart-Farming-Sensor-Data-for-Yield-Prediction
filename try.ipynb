{
 "cells": [
  {
   "cell_type": "code",
   "execution_count": 4,
   "id": "fce84e80",
   "metadata": {},
   "outputs": [],
   "source": [
    "import pandas as pd \n",
    "import numpy as np\n",
    "import matplotlib.pyplot as plt\n",
    "import seaborn as sns\n",
    "from sklearn.model_selection import train_test_split\n",
    "from sklearn.ensemble import RandomForestClassifier\n",
    "from sklearn.metrics import classification_report, confusion_matrix, accuracy_score\n",
    "from sklearn.preprocessing import StandardScaler\n",
    "from sklearn.decomposition import PCA\n",
    "from xgboost import XGBClassifier"
   ]
  },
  {
   "cell_type": "code",
   "execution_count": 5,
   "id": "582c7e3b",
   "metadata": {},
   "outputs": [
    {
     "data": {
      "application/vnd.microsoft.datawrangler.viewer.v0+json": {
       "columns": [
        {
         "name": "index",
         "rawType": "int64",
         "type": "integer"
        },
        {
         "name": "farm_id",
         "rawType": "object",
         "type": "string"
        },
        {
         "name": "region",
         "rawType": "object",
         "type": "string"
        },
        {
         "name": "crop_type",
         "rawType": "object",
         "type": "string"
        },
        {
         "name": "soil_moisture_%",
         "rawType": "float64",
         "type": "float"
        },
        {
         "name": "soil_pH",
         "rawType": "float64",
         "type": "float"
        },
        {
         "name": "temperature_C",
         "rawType": "float64",
         "type": "float"
        },
        {
         "name": "rainfall_mm",
         "rawType": "float64",
         "type": "float"
        },
        {
         "name": "humidity_%",
         "rawType": "float64",
         "type": "float"
        },
        {
         "name": "sunlight_hours",
         "rawType": "float64",
         "type": "float"
        },
        {
         "name": "irrigation_type",
         "rawType": "object",
         "type": "unknown"
        },
        {
         "name": "fertilizer_type",
         "rawType": "object",
         "type": "string"
        },
        {
         "name": "pesticide_usage_ml",
         "rawType": "float64",
         "type": "float"
        },
        {
         "name": "sowing_date",
         "rawType": "object",
         "type": "string"
        },
        {
         "name": "harvest_date",
         "rawType": "object",
         "type": "string"
        },
        {
         "name": "total_days",
         "rawType": "int64",
         "type": "integer"
        },
        {
         "name": "yield_kg_per_hectare",
         "rawType": "float64",
         "type": "float"
        },
        {
         "name": "sensor_id",
         "rawType": "object",
         "type": "string"
        },
        {
         "name": "timestamp",
         "rawType": "object",
         "type": "string"
        },
        {
         "name": "latitude",
         "rawType": "float64",
         "type": "float"
        },
        {
         "name": "longitude",
         "rawType": "float64",
         "type": "float"
        },
        {
         "name": "NDVI_index",
         "rawType": "float64",
         "type": "float"
        },
        {
         "name": "crop_disease_status",
         "rawType": "object",
         "type": "unknown"
        }
       ],
       "ref": "587cce90-ba80-4b77-b4d5-b790bfdac350",
       "rows": [
        [
         "0",
         "FARM0001",
         "North India",
         "Wheat",
         "35.95",
         "5.99",
         "17.79",
         "75.62",
         "77.03",
         "7.27",
         null,
         "Organic",
         "6.34",
         "2024-01-08",
         "2024-05-09",
         "122",
         "4408.07",
         "SENS0001",
         "2024-03-19",
         "14.970941",
         "82.997689",
         "0.63",
         "Mild"
        ],
        [
         "1",
         "FARM0002",
         "South USA",
         "Soybean",
         "19.74",
         "7.24",
         "30.18",
         "89.91",
         "61.13",
         "5.67",
         "Sprinkler",
         "Inorganic",
         "9.6",
         "2024-02-04",
         "2024-05-26",
         "112",
         "5389.98",
         "SENS0002",
         "2024-04-21",
         "16.613022",
         "70.869009",
         "0.58",
         null
        ],
        [
         "2",
         "FARM0003",
         "South USA",
         "Wheat",
         "29.32",
         "7.16",
         "27.37",
         "265.43",
         "68.87",
         "8.23",
         "Drip",
         "Mixed",
         "15.26",
         "2024-02-03",
         "2024-06-26",
         "144",
         "2931.16",
         "SENS0003",
         "2024-02-28",
         "19.503156",
         "79.068206",
         "0.8",
         "Mild"
        ],
        [
         "3",
         "FARM0004",
         "Central USA",
         "Maize",
         "17.33",
         "6.03",
         "33.73",
         "212.01",
         "70.46",
         "5.03",
         "Sprinkler",
         "Organic",
         "25.8",
         "2024-02-21",
         "2024-07-04",
         "134",
         "4227.8",
         "SENS0004",
         "2024-05-14",
         "31.071298",
         "85.519998",
         "0.44",
         null
        ],
        [
         "4",
         "FARM0005",
         "Central USA",
         "Cotton",
         "19.37",
         "5.92",
         "33.86",
         "269.09",
         "55.73",
         "7.93",
         null,
         "Mixed",
         "25.65",
         "2024-02-05",
         "2024-05-20",
         "105",
         "4979.96",
         "SENS0005",
         "2024-04-13",
         "16.56854",
         "81.69172",
         "0.84",
         "Severe"
        ]
       ],
       "shape": {
        "columns": 22,
        "rows": 5
       }
      },
      "text/html": [
       "<div>\n",
       "<style scoped>\n",
       "    .dataframe tbody tr th:only-of-type {\n",
       "        vertical-align: middle;\n",
       "    }\n",
       "\n",
       "    .dataframe tbody tr th {\n",
       "        vertical-align: top;\n",
       "    }\n",
       "\n",
       "    .dataframe thead th {\n",
       "        text-align: right;\n",
       "    }\n",
       "</style>\n",
       "<table border=\"1\" class=\"dataframe\">\n",
       "  <thead>\n",
       "    <tr style=\"text-align: right;\">\n",
       "      <th></th>\n",
       "      <th>farm_id</th>\n",
       "      <th>region</th>\n",
       "      <th>crop_type</th>\n",
       "      <th>soil_moisture_%</th>\n",
       "      <th>soil_pH</th>\n",
       "      <th>temperature_C</th>\n",
       "      <th>rainfall_mm</th>\n",
       "      <th>humidity_%</th>\n",
       "      <th>sunlight_hours</th>\n",
       "      <th>irrigation_type</th>\n",
       "      <th>fertilizer_type</th>\n",
       "      <th>pesticide_usage_ml</th>\n",
       "      <th>sowing_date</th>\n",
       "      <th>harvest_date</th>\n",
       "      <th>total_days</th>\n",
       "      <th>yield_kg_per_hectare</th>\n",
       "      <th>sensor_id</th>\n",
       "      <th>timestamp</th>\n",
       "      <th>latitude</th>\n",
       "      <th>longitude</th>\n",
       "      <th>NDVI_index</th>\n",
       "      <th>crop_disease_status</th>\n",
       "    </tr>\n",
       "  </thead>\n",
       "  <tbody>\n",
       "    <tr>\n",
       "      <th>0</th>\n",
       "      <td>FARM0001</td>\n",
       "      <td>North India</td>\n",
       "      <td>Wheat</td>\n",
       "      <td>35.95</td>\n",
       "      <td>5.99</td>\n",
       "      <td>17.79</td>\n",
       "      <td>75.62</td>\n",
       "      <td>77.03</td>\n",
       "      <td>7.27</td>\n",
       "      <td>NaN</td>\n",
       "      <td>Organic</td>\n",
       "      <td>6.34</td>\n",
       "      <td>2024-01-08</td>\n",
       "      <td>2024-05-09</td>\n",
       "      <td>122</td>\n",
       "      <td>4408.07</td>\n",
       "      <td>SENS0001</td>\n",
       "      <td>2024-03-19</td>\n",
       "      <td>14.970941</td>\n",
       "      <td>82.997689</td>\n",
       "      <td>0.63</td>\n",
       "      <td>Mild</td>\n",
       "    </tr>\n",
       "    <tr>\n",
       "      <th>1</th>\n",
       "      <td>FARM0002</td>\n",
       "      <td>South USA</td>\n",
       "      <td>Soybean</td>\n",
       "      <td>19.74</td>\n",
       "      <td>7.24</td>\n",
       "      <td>30.18</td>\n",
       "      <td>89.91</td>\n",
       "      <td>61.13</td>\n",
       "      <td>5.67</td>\n",
       "      <td>Sprinkler</td>\n",
       "      <td>Inorganic</td>\n",
       "      <td>9.60</td>\n",
       "      <td>2024-02-04</td>\n",
       "      <td>2024-05-26</td>\n",
       "      <td>112</td>\n",
       "      <td>5389.98</td>\n",
       "      <td>SENS0002</td>\n",
       "      <td>2024-04-21</td>\n",
       "      <td>16.613022</td>\n",
       "      <td>70.869009</td>\n",
       "      <td>0.58</td>\n",
       "      <td>NaN</td>\n",
       "    </tr>\n",
       "    <tr>\n",
       "      <th>2</th>\n",
       "      <td>FARM0003</td>\n",
       "      <td>South USA</td>\n",
       "      <td>Wheat</td>\n",
       "      <td>29.32</td>\n",
       "      <td>7.16</td>\n",
       "      <td>27.37</td>\n",
       "      <td>265.43</td>\n",
       "      <td>68.87</td>\n",
       "      <td>8.23</td>\n",
       "      <td>Drip</td>\n",
       "      <td>Mixed</td>\n",
       "      <td>15.26</td>\n",
       "      <td>2024-02-03</td>\n",
       "      <td>2024-06-26</td>\n",
       "      <td>144</td>\n",
       "      <td>2931.16</td>\n",
       "      <td>SENS0003</td>\n",
       "      <td>2024-02-28</td>\n",
       "      <td>19.503156</td>\n",
       "      <td>79.068206</td>\n",
       "      <td>0.80</td>\n",
       "      <td>Mild</td>\n",
       "    </tr>\n",
       "    <tr>\n",
       "      <th>3</th>\n",
       "      <td>FARM0004</td>\n",
       "      <td>Central USA</td>\n",
       "      <td>Maize</td>\n",
       "      <td>17.33</td>\n",
       "      <td>6.03</td>\n",
       "      <td>33.73</td>\n",
       "      <td>212.01</td>\n",
       "      <td>70.46</td>\n",
       "      <td>5.03</td>\n",
       "      <td>Sprinkler</td>\n",
       "      <td>Organic</td>\n",
       "      <td>25.80</td>\n",
       "      <td>2024-02-21</td>\n",
       "      <td>2024-07-04</td>\n",
       "      <td>134</td>\n",
       "      <td>4227.80</td>\n",
       "      <td>SENS0004</td>\n",
       "      <td>2024-05-14</td>\n",
       "      <td>31.071298</td>\n",
       "      <td>85.519998</td>\n",
       "      <td>0.44</td>\n",
       "      <td>NaN</td>\n",
       "    </tr>\n",
       "    <tr>\n",
       "      <th>4</th>\n",
       "      <td>FARM0005</td>\n",
       "      <td>Central USA</td>\n",
       "      <td>Cotton</td>\n",
       "      <td>19.37</td>\n",
       "      <td>5.92</td>\n",
       "      <td>33.86</td>\n",
       "      <td>269.09</td>\n",
       "      <td>55.73</td>\n",
       "      <td>7.93</td>\n",
       "      <td>NaN</td>\n",
       "      <td>Mixed</td>\n",
       "      <td>25.65</td>\n",
       "      <td>2024-02-05</td>\n",
       "      <td>2024-05-20</td>\n",
       "      <td>105</td>\n",
       "      <td>4979.96</td>\n",
       "      <td>SENS0005</td>\n",
       "      <td>2024-04-13</td>\n",
       "      <td>16.568540</td>\n",
       "      <td>81.691720</td>\n",
       "      <td>0.84</td>\n",
       "      <td>Severe</td>\n",
       "    </tr>\n",
       "  </tbody>\n",
       "</table>\n",
       "</div>"
      ],
      "text/plain": [
       "    farm_id       region crop_type  ...  longitude  NDVI_index  crop_disease_status\n",
       "0  FARM0001  North India     Wheat  ...  82.997689        0.63                 Mild\n",
       "1  FARM0002    South USA   Soybean  ...  70.869009        0.58                  NaN\n",
       "2  FARM0003    South USA     Wheat  ...  79.068206        0.80                 Mild\n",
       "3  FARM0004  Central USA     Maize  ...  85.519998        0.44                  NaN\n",
       "4  FARM0005  Central USA    Cotton  ...  81.691720        0.84               Severe\n",
       "\n",
       "[5 rows x 22 columns]"
      ]
     },
     "execution_count": 5,
     "metadata": {},
     "output_type": "execute_result"
    }
   ],
   "source": [
    "df = pd.read_csv('Smart_Farming_Crop_Yield_2024.csv')\n",
    "df.head()"
   ]
  },
  {
   "cell_type": "code",
   "execution_count": 10,
   "id": "3500145c",
   "metadata": {},
   "outputs": [],
   "source": [
    "df = df.drop(columns=['farm_id','sensor_id' ], axis=1)"
   ]
  },
  {
   "cell_type": "code",
   "execution_count": 14,
   "id": "9fe0df29",
   "metadata": {},
   "outputs": [
    {
     "name": "stdout",
     "output_type": "stream",
     "text": [
      "<class 'pandas.core.frame.DataFrame'>\n",
      "RangeIndex: 500 entries, 0 to 499\n",
      "Data columns (total 20 columns):\n",
      " #   Column                Non-Null Count  Dtype         \n",
      "---  ------                --------------  -----         \n",
      " 0   region                500 non-null    object        \n",
      " 1   crop_type             500 non-null    object        \n",
      " 2   soil_moisture_%       500 non-null    float64       \n",
      " 3   soil_pH               500 non-null    float64       \n",
      " 4   temperature_C         500 non-null    float64       \n",
      " 5   rainfall_mm           500 non-null    float64       \n",
      " 6   humidity_%            500 non-null    float64       \n",
      " 7   sunlight_hours        500 non-null    float64       \n",
      " 8   irrigation_type       500 non-null    object        \n",
      " 9   fertilizer_type       500 non-null    object        \n",
      " 10  pesticide_usage_ml    500 non-null    float64       \n",
      " 11  sowing_date           500 non-null    datetime64[ns]\n",
      " 12  harvest_date          500 non-null    datetime64[ns]\n",
      " 13  total_days            500 non-null    int64         \n",
      " 14  yield_kg_per_hectare  500 non-null    float64       \n",
      " 15  timestamp             500 non-null    object        \n",
      " 16  latitude              500 non-null    float64       \n",
      " 17  longitude             500 non-null    float64       \n",
      " 18  NDVI_index            500 non-null    float64       \n",
      " 19  crop_disease_status   500 non-null    object        \n",
      "dtypes: datetime64[ns](2), float64(11), int64(1), object(6)\n",
      "memory usage: 78.3+ KB\n"
     ]
    }
   ],
   "source": [
    "df.info()"
   ]
  },
  {
   "cell_type": "code",
   "execution_count": null,
   "id": "5426e60e",
   "metadata": {},
   "outputs": [
    {
     "data": {
      "application/vnd.microsoft.datawrangler.viewer.v0+json": {
       "columns": [
        {
         "name": "index",
         "rawType": "int64",
         "type": "integer"
        },
        {
         "name": "region",
         "rawType": "object",
         "type": "string"
        },
        {
         "name": "crop_type",
         "rawType": "object",
         "type": "string"
        },
        {
         "name": "soil_moisture_%",
         "rawType": "float64",
         "type": "float"
        },
        {
         "name": "soil_pH",
         "rawType": "float64",
         "type": "float"
        },
        {
         "name": "temperature_C",
         "rawType": "float64",
         "type": "float"
        },
        {
         "name": "rainfall_mm",
         "rawType": "float64",
         "type": "float"
        },
        {
         "name": "humidity_%",
         "rawType": "float64",
         "type": "float"
        },
        {
         "name": "sunlight_hours",
         "rawType": "float64",
         "type": "float"
        },
        {
         "name": "irrigation_type",
         "rawType": "object",
         "type": "string"
        },
        {
         "name": "fertilizer_type",
         "rawType": "object",
         "type": "string"
        },
        {
         "name": "pesticide_usage_ml",
         "rawType": "float64",
         "type": "float"
        },
        {
         "name": "sowing_date",
         "rawType": "datetime64[ns]",
         "type": "datetime"
        },
        {
         "name": "harvest_date",
         "rawType": "datetime64[ns]",
         "type": "datetime"
        },
        {
         "name": "total_days",
         "rawType": "int64",
         "type": "integer"
        },
        {
         "name": "yield_kg_per_hectare",
         "rawType": "float64",
         "type": "float"
        },
        {
         "name": "timestamp",
         "rawType": "object",
         "type": "string"
        },
        {
         "name": "latitude",
         "rawType": "float64",
         "type": "float"
        },
        {
         "name": "longitude",
         "rawType": "float64",
         "type": "float"
        },
        {
         "name": "NDVI_index",
         "rawType": "float64",
         "type": "float"
        },
        {
         "name": "crop_disease_status",
         "rawType": "object",
         "type": "string"
        }
       ],
       "ref": "27a0444e-fe49-44fc-af36-9b87c3b48894",
       "rows": [
        [
         "0",
         "North India",
         "Wheat",
         "35.95",
         "5.99",
         "17.79",
         "75.62",
         "77.03",
         "7.27",
         "None",
         "Organic",
         "6.34",
         "2024-01-08 00:00:00",
         "2024-05-09 00:00:00",
         "122",
         "4408.07",
         "2024-03-19",
         "14.970941",
         "82.997689",
         "0.63",
         "Mild"
        ],
        [
         "1",
         "South USA",
         "Soybean",
         "19.74",
         "7.24",
         "30.18",
         "89.91",
         "61.13",
         "5.67",
         "Sprinkler",
         "Inorganic",
         "9.6",
         "2024-02-04 00:00:00",
         "2024-05-26 00:00:00",
         "112",
         "5389.98",
         "2024-04-21",
         "16.613022",
         "70.869009",
         "0.58",
         "None"
        ],
        [
         "2",
         "South USA",
         "Wheat",
         "29.32",
         "7.16",
         "27.37",
         "265.43",
         "68.87",
         "8.23",
         "Drip",
         "Mixed",
         "15.26",
         "2024-02-03 00:00:00",
         "2024-06-26 00:00:00",
         "144",
         "2931.16",
         "2024-02-28",
         "19.503156",
         "79.068206",
         "0.8",
         "Mild"
        ],
        [
         "3",
         "Central USA",
         "Maize",
         "17.33",
         "6.03",
         "33.73",
         "212.01",
         "70.46",
         "5.03",
         "Sprinkler",
         "Organic",
         "25.8",
         "2024-02-21 00:00:00",
         "2024-07-04 00:00:00",
         "134",
         "4227.8",
         "2024-05-14",
         "31.071298",
         "85.519998",
         "0.44",
         "None"
        ],
        [
         "4",
         "Central USA",
         "Cotton",
         "19.37",
         "5.92",
         "33.86",
         "269.09",
         "55.73",
         "7.93",
         "None",
         "Mixed",
         "25.65",
         "2024-02-05 00:00:00",
         "2024-05-20 00:00:00",
         "105",
         "4979.96",
         "2024-04-13",
         "16.56854",
         "81.69172",
         "0.84",
         "Severe"
        ]
       ],
       "shape": {
        "columns": 20,
        "rows": 5
       }
      },
      "text/html": [
       "<div>\n",
       "<style scoped>\n",
       "    .dataframe tbody tr th:only-of-type {\n",
       "        vertical-align: middle;\n",
       "    }\n",
       "\n",
       "    .dataframe tbody tr th {\n",
       "        vertical-align: top;\n",
       "    }\n",
       "\n",
       "    .dataframe thead th {\n",
       "        text-align: right;\n",
       "    }\n",
       "</style>\n",
       "<table border=\"1\" class=\"dataframe\">\n",
       "  <thead>\n",
       "    <tr style=\"text-align: right;\">\n",
       "      <th></th>\n",
       "      <th>region</th>\n",
       "      <th>crop_type</th>\n",
       "      <th>soil_moisture_%</th>\n",
       "      <th>soil_pH</th>\n",
       "      <th>temperature_C</th>\n",
       "      <th>rainfall_mm</th>\n",
       "      <th>humidity_%</th>\n",
       "      <th>sunlight_hours</th>\n",
       "      <th>irrigation_type</th>\n",
       "      <th>fertilizer_type</th>\n",
       "      <th>pesticide_usage_ml</th>\n",
       "      <th>sowing_date</th>\n",
       "      <th>harvest_date</th>\n",
       "      <th>total_days</th>\n",
       "      <th>yield_kg_per_hectare</th>\n",
       "      <th>timestamp</th>\n",
       "      <th>latitude</th>\n",
       "      <th>longitude</th>\n",
       "      <th>NDVI_index</th>\n",
       "      <th>crop_disease_status</th>\n",
       "    </tr>\n",
       "  </thead>\n",
       "  <tbody>\n",
       "    <tr>\n",
       "      <th>0</th>\n",
       "      <td>North India</td>\n",
       "      <td>Wheat</td>\n",
       "      <td>35.95</td>\n",
       "      <td>5.99</td>\n",
       "      <td>17.79</td>\n",
       "      <td>75.62</td>\n",
       "      <td>77.03</td>\n",
       "      <td>7.27</td>\n",
       "      <td>None</td>\n",
       "      <td>Organic</td>\n",
       "      <td>6.34</td>\n",
       "      <td>2024-01-08</td>\n",
       "      <td>2024-05-09</td>\n",
       "      <td>122</td>\n",
       "      <td>4408.07</td>\n",
       "      <td>2024-03-19</td>\n",
       "      <td>14.970941</td>\n",
       "      <td>82.997689</td>\n",
       "      <td>0.63</td>\n",
       "      <td>Mild</td>\n",
       "    </tr>\n",
       "    <tr>\n",
       "      <th>1</th>\n",
       "      <td>South USA</td>\n",
       "      <td>Soybean</td>\n",
       "      <td>19.74</td>\n",
       "      <td>7.24</td>\n",
       "      <td>30.18</td>\n",
       "      <td>89.91</td>\n",
       "      <td>61.13</td>\n",
       "      <td>5.67</td>\n",
       "      <td>Sprinkler</td>\n",
       "      <td>Inorganic</td>\n",
       "      <td>9.60</td>\n",
       "      <td>2024-02-04</td>\n",
       "      <td>2024-05-26</td>\n",
       "      <td>112</td>\n",
       "      <td>5389.98</td>\n",
       "      <td>2024-04-21</td>\n",
       "      <td>16.613022</td>\n",
       "      <td>70.869009</td>\n",
       "      <td>0.58</td>\n",
       "      <td>None</td>\n",
       "    </tr>\n",
       "    <tr>\n",
       "      <th>2</th>\n",
       "      <td>South USA</td>\n",
       "      <td>Wheat</td>\n",
       "      <td>29.32</td>\n",
       "      <td>7.16</td>\n",
       "      <td>27.37</td>\n",
       "      <td>265.43</td>\n",
       "      <td>68.87</td>\n",
       "      <td>8.23</td>\n",
       "      <td>Drip</td>\n",
       "      <td>Mixed</td>\n",
       "      <td>15.26</td>\n",
       "      <td>2024-02-03</td>\n",
       "      <td>2024-06-26</td>\n",
       "      <td>144</td>\n",
       "      <td>2931.16</td>\n",
       "      <td>2024-02-28</td>\n",
       "      <td>19.503156</td>\n",
       "      <td>79.068206</td>\n",
       "      <td>0.80</td>\n",
       "      <td>Mild</td>\n",
       "    </tr>\n",
       "    <tr>\n",
       "      <th>3</th>\n",
       "      <td>Central USA</td>\n",
       "      <td>Maize</td>\n",
       "      <td>17.33</td>\n",
       "      <td>6.03</td>\n",
       "      <td>33.73</td>\n",
       "      <td>212.01</td>\n",
       "      <td>70.46</td>\n",
       "      <td>5.03</td>\n",
       "      <td>Sprinkler</td>\n",
       "      <td>Organic</td>\n",
       "      <td>25.80</td>\n",
       "      <td>2024-02-21</td>\n",
       "      <td>2024-07-04</td>\n",
       "      <td>134</td>\n",
       "      <td>4227.80</td>\n",
       "      <td>2024-05-14</td>\n",
       "      <td>31.071298</td>\n",
       "      <td>85.519998</td>\n",
       "      <td>0.44</td>\n",
       "      <td>None</td>\n",
       "    </tr>\n",
       "    <tr>\n",
       "      <th>4</th>\n",
       "      <td>Central USA</td>\n",
       "      <td>Cotton</td>\n",
       "      <td>19.37</td>\n",
       "      <td>5.92</td>\n",
       "      <td>33.86</td>\n",
       "      <td>269.09</td>\n",
       "      <td>55.73</td>\n",
       "      <td>7.93</td>\n",
       "      <td>None</td>\n",
       "      <td>Mixed</td>\n",
       "      <td>25.65</td>\n",
       "      <td>2024-02-05</td>\n",
       "      <td>2024-05-20</td>\n",
       "      <td>105</td>\n",
       "      <td>4979.96</td>\n",
       "      <td>2024-04-13</td>\n",
       "      <td>16.568540</td>\n",
       "      <td>81.691720</td>\n",
       "      <td>0.84</td>\n",
       "      <td>Severe</td>\n",
       "    </tr>\n",
       "  </tbody>\n",
       "</table>\n",
       "</div>"
      ],
      "text/plain": [
       "        region crop_type  ...  NDVI_index  crop_disease_status\n",
       "0  North India     Wheat  ...        0.63                 Mild\n",
       "1    South USA   Soybean  ...        0.58                 None\n",
       "2    South USA     Wheat  ...        0.80                 Mild\n",
       "3  Central USA     Maize  ...        0.44                 None\n",
       "4  Central USA    Cotton  ...        0.84               Severe\n",
       "\n",
       "[5 rows x 20 columns]"
      ]
     },
     "execution_count": 13,
     "metadata": {},
     "output_type": "execute_result"
    }
   ],
   "source": [
    "df.fillna('None', inplace=True)\n",
    "df['sowing_date'] = pd.to_datetime(df['sowing_date'], format='%Y-%m-%d', errors='coerce')\n",
    "df['sowing_month'] = df['sowing_date'].dt.month\n",
    "df['sowing_quarter'] = df['sowing_date'].dt.quarter\n",
    "df['harvest_date'] = pd.to_datetime(df['harvest_date'], format='%Y-%m-%d', errors='coerce')\n",
    "df['harvest_month'] = df['harvest_date'].dt.month\n",
    "df['harvest_quarter'] = df['harvest_date'].dt.quarter\n",
    "df['timestamp'] = pd.to_datetime(df['timestamp'], format='%Y-%m-%d', errors='coerce')\n",
    "df.head()"
   ]
  },
  {
   "cell_type": "code",
   "execution_count": null,
   "id": "6a6eeb82",
   "metadata": {},
   "outputs": [],
   "source": []
  },
  {
   "cell_type": "code",
   "execution_count": 6,
   "id": "f3fa6402",
   "metadata": {},
   "outputs": [
    {
     "data": {
      "application/vnd.microsoft.datawrangler.viewer.v0+json": {
       "columns": [
        {
         "name": "crop_type",
         "rawType": "object",
         "type": "string"
        },
        {
         "name": "count",
         "rawType": "int64",
         "type": "integer"
        }
       ],
       "ref": "20ff87be-383e-418a-8559-f0d2a579bbf9",
       "rows": [
        [
         "Maize",
         "111"
        ],
        [
         "Soybean",
         "108"
        ],
        [
         "Cotton",
         "107"
        ],
        [
         "Wheat",
         "92"
        ],
        [
         "Rice",
         "82"
        ]
       ],
       "shape": {
        "columns": 1,
        "rows": 5
       }
      },
      "text/plain": [
       "crop_type\n",
       "Maize      111\n",
       "Soybean    108\n",
       "Cotton     107\n",
       "Wheat       92\n",
       "Rice        82\n",
       "Name: count, dtype: int64"
      ]
     },
     "execution_count": 6,
     "metadata": {},
     "output_type": "execute_result"
    }
   ],
   "source": [
    "df.crop_type.value_counts()"
   ]
  },
  {
   "cell_type": "code",
   "execution_count": null,
   "id": "6e812a3c",
   "metadata": {},
   "outputs": [],
   "source": [
    "df = df"
   ]
  }
 ],
 "metadata": {
  "kernelspec": {
   "display_name": "Python 3",
   "language": "python",
   "name": "python3"
  },
  "language_info": {
   "codemirror_mode": {
    "name": "ipython",
    "version": 3
   },
   "file_extension": ".py",
   "mimetype": "text/x-python",
   "name": "python",
   "nbconvert_exporter": "python",
   "pygments_lexer": "ipython3",
   "version": "3.13.2"
  }
 },
 "nbformat": 4,
 "nbformat_minor": 5
}
